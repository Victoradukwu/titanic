{
 "cells": [
  {
   "cell_type": "markdown",
   "metadata": {},
   "source": [
    "# Extracting Data from Relational Databases"
   ]
  },
  {
   "cell_type": "markdown",
   "metadata": {},
   "source": [
    "## SQLite Database"
   ]
  },
  {
   "cell_type": "markdown",
   "metadata": {},
   "source": [
    "#### Import Pakage"
   ]
  },
  {
   "cell_type": "code",
   "execution_count": 1,
   "metadata": {},
   "outputs": [],
   "source": [
    "# Import SQLite3 package\n",
    "import sqlite3"
   ]
  },
  {
   "cell_type": "markdown",
   "metadata": {},
   "source": [
    "#### Connect to a database"
   ]
  },
  {
   "cell_type": "code",
   "execution_count": 2,
   "metadata": {},
   "outputs": [],
   "source": [
    "# This will create a connection to the passed in db. If the db does not exist, it gets created\n",
    "connection = sqlite3.connect(\"classroomDb.db\")\n",
    "connection.close()"
   ]
  },
  {
   "cell_type": "markdown",
   "metadata": {},
   "source": [
    "#### Creating a table"
   ]
  },
  {
   "cell_type": "code",
   "execution_count": 11,
   "metadata": {},
   "outputs": [],
   "source": [
    "connection = sqlite3.connect(\"classroomDb.db\")\n",
    "cursor = connection.cursor()\n",
    "\n",
    "create_db = '''\n",
    "CREATE TABLE classroom (\n",
    "student_id INTEGER PRIMARY_KEY,\n",
    "name VARCHAR(20),\n",
    "gender CHAR(1),\n",
    "physics_marks INTEGER,\n",
    "chemistry_marks INTEGER,\n",
    "mathematics_marks INTEGER\n",
    ")\n",
    "'''\n",
    "cursor.execute(create_db)\n",
    "connection.commit()\n",
    "connection.close()"
   ]
  },
  {
   "cell_type": "markdown",
   "metadata": {},
   "source": [
    "#### Insert data"
   ]
  },
  {
   "cell_type": "code",
   "execution_count": 13,
   "metadata": {},
   "outputs": [],
   "source": [
    "class_data = [(1, 'Vic', 'M', 100, 99, 98),\n",
    "             (2, 'Rose', 'F', 99, 98, 97),\n",
    "             (3, 'Dave', 'M', 98, 97, 96),\n",
    "             (4, 'Donnie', 'M', 97, 96, 95),\n",
    "             (5, 'Dani', 'F', 96, 95, 94)\n",
    "             ]\n",
    "connection = sqlite3.connect('classroomDB.db')\n",
    "cursor = connection.cursor()\n",
    "for student in class_data:\n",
    "    insert_statement = f'''insert into classroom (student_id, name, gender, physics_marks, chemistry_marks, mathematics_marks)\n",
    "        values ({student[0]}, \"{student[1]}\", \"{student[2]}\", {student[3]}, {student[4]}, {student[5]});'''\n",
    "    cursor.execute(insert_statement)\n",
    "connection.commit()\n",
    "connection.close()"
   ]
  },
  {
   "cell_type": "markdown",
   "metadata": {},
   "source": [
    "#### Extract Data"
   ]
  },
  {
   "cell_type": "code",
   "execution_count": 14,
   "metadata": {},
   "outputs": [
    {
     "name": "stdout",
     "output_type": "stream",
     "text": [
      "(1, 'Vic', 'M', 100, 99, 98)\n",
      "(2, 'Rose', 'F', 99, 98, 97)\n",
      "(3, 'Dave', 'M', 98, 97, 96)\n",
      "(4, 'Donnie', 'M', 97, 96, 95)\n",
      "(5, 'Dani', 'F', 96, 95, 94)\n"
     ]
    }
   ],
   "source": [
    "connection = sqlite3.connect('classroomDB.db')\n",
    "cursor = connection.cursor()\n",
    "query = 'select * from classroom'\n",
    "cursor.execute(query)\n",
    "result = cursor.fetchall()\n",
    "for row in result:\n",
    "    print(row)\n",
    "connection.close()"
   ]
  },
  {
   "cell_type": "markdown",
   "metadata": {},
   "source": [
    "## MySQL Databasw"
   ]
  },
  {
   "cell_type": "markdown",
   "metadata": {},
   "source": [
    "#### Install and import the package"
   ]
  },
  {
   "cell_type": "code",
   "execution_count": 15,
   "metadata": {},
   "outputs": [
    {
     "name": "stdout",
     "output_type": "stream",
     "text": [
      "Collecting package metadata: ...working... done\n",
      "Solving environment: ...working... done\n",
      "\n",
      "## Package Plan ##\n",
      "\n",
      "  environment location: /Users/Victor/anaconda3\n",
      "\n",
      "  added / updated specs:\n",
      "    - pymysql\n",
      "\n",
      "\n",
      "The following packages will be downloaded:\n",
      "\n",
      "    package                    |            build\n",
      "    ---------------------------|-----------------\n",
      "    ca-certificates-2019.10.16 |                0         131 KB\n",
      "    certifi-2019.9.11          |           py36_0         154 KB\n",
      "    conda-4.7.12               |           py36_0         3.0 MB\n",
      "    conda-package-handling-1.6.0|   py36h1de35cc_0         1.4 MB\n",
      "    openssl-1.1.1d             |       h1de35cc_3         3.4 MB\n",
      "    ------------------------------------------------------------\n",
      "                                           Total:         8.2 MB\n",
      "\n",
      "The following NEW packages will be INSTALLED:\n",
      "\n",
      "  conda-package-han~ pkgs/main/osx-64::conda-package-handling-1.6.0-py36h1de35cc_0\n",
      "\n",
      "The following packages will be UPDATED:\n",
      "\n",
      "  ca-certificates                               2018.12.5-0 --> 2019.10.16-0\n",
      "  certifi                                 2018.11.29-py36_0 --> 2019.9.11-py36_0\n",
      "  conda                                        4.6.1-py36_0 --> 4.7.12-py36_0\n",
      "  openssl                                 1.1.1a-h1de35cc_0 --> 1.1.1d-h1de35cc_3\n",
      "\n",
      "\n",
      "Preparing transaction: ...working... done\n",
      "Verifying transaction: ...working... done\n",
      "Executing transaction: ...working... done\n"
     ]
    }
   ],
   "source": [
    "!conda install -y -q pymysql"
   ]
  },
  {
   "cell_type": "code",
   "execution_count": 17,
   "metadata": {},
   "outputs": [],
   "source": [
    "import pymysql"
   ]
  },
  {
   "cell_type": "code",
   "execution_count": 18,
   "metadata": {},
   "outputs": [],
   "source": [
    "import pymysql\n",
    "cnx = {\n",
    "    'host': 'localhost',\n",
    "    'username': 'root',\n",
    "    'password': 'alakwu10',\n",
    "    'db':'classroomDB'\n",
    "}\n",
    "connection = pymysql.connect(cnx['host'],cnx['username'],cnx['password'],cnx['db'])\n",
    "cursor = connection.cursor()\n"
   ]
  },
  {
   "cell_type": "markdown",
   "metadata": {},
   "source": [
    "#### Create table"
   ]
  },
  {
   "cell_type": "code",
   "execution_count": 20,
   "metadata": {},
   "outputs": [],
   "source": [
    "create_table = '''\n",
    "                CREATE TABLE classroom1 (\n",
    "                student_id INTEGER PRIMARY KEY,\n",
    "                name VARCHAR(20),\n",
    "                gender CHAR(1),\n",
    "                physics_marks INTEGER, \n",
    "                chemistry_marks INTEGER, \n",
    "                mathematics_marks INTEGER\n",
    "                );'''\n",
    "cursor.execute(create_table)\n",
    "connection.commit()\n",
    "connection.close()"
   ]
  },
  {
   "cell_type": "markdown",
   "metadata": {},
   "source": [
    "#### Insert Data"
   ]
  },
  {
   "cell_type": "code",
   "execution_count": 21,
   "metadata": {},
   "outputs": [],
   "source": [
    "class_data = [(1, 'Vic', 'M', 100, 99, 98),\n",
    "             (2, 'Rose', 'F', 99, 98, 97),\n",
    "             (3, 'Dave', 'M', 98, 97, 96),\n",
    "             (4, 'Donnie', 'M', 97, 96, 95),\n",
    "             (5, 'Dani', 'F', 96, 95, 94)\n",
    "             ]\n",
    "cnx = {\n",
    "    'host': 'localhost',\n",
    "    'username': 'root',\n",
    "    'password': 'alakwu10',\n",
    "    'db':'classroomDB'\n",
    "}\n",
    "connection = pymysql.connect(cnx['host'],cnx['username'],cnx['password'],cnx['db'])\n",
    "cursor = connection.cursor()\n",
    "for student in class_data:\n",
    "    insert_statement = f'insert into classroom1\\\n",
    "        (student_id, name, gender, physics_marks, chemistry_marks, mathematics_marks)\\\n",
    "        values ({student[0]}, \"{student[1]}\", \"{student[2]}\", {student[3]}, {student[4]}, {student[5]});'\n",
    "    cursor.execute(insert_statement)\n",
    "connection.commit()\n",
    "connection.close()"
   ]
  },
  {
   "cell_type": "markdown",
   "metadata": {},
   "source": [
    "#### Retrieve data"
   ]
  },
  {
   "cell_type": "code",
   "execution_count": 22,
   "metadata": {},
   "outputs": [
    {
     "name": "stdout",
     "output_type": "stream",
     "text": [
      "(1, 'Vic', 'M', 100, 99, 98)\n",
      "(2, 'Rose', 'F', 99, 98, 97)\n",
      "(3, 'Dave', 'M', 98, 97, 96)\n",
      "(4, 'Donnie', 'M', 97, 96, 95)\n",
      "(5, 'Dani', 'F', 96, 95, 94)\n"
     ]
    }
   ],
   "source": [
    "cnx = {\n",
    "    'host': 'localhost',\n",
    "    'username': 'root',\n",
    "    'password': 'alakwu10',\n",
    "    'db':'classroomDB'\n",
    "}\n",
    "connection = pymysql.connect(cnx['host'],cnx['username'],cnx['password'],cnx['db'])\n",
    "cursor = connection.cursor()\n",
    "query = 'select * from classroom1'\n",
    "cursor.execute(query)\n",
    "result = cursor.fetchall()\n",
    "for row in result:\n",
    "    print(row)\n",
    "connection.close()"
   ]
  },
  {
   "cell_type": "markdown",
   "metadata": {},
   "source": [
    "# Extracting Titanic Data"
   ]
  },
  {
   "cell_type": "code",
   "execution_count": 23,
   "metadata": {},
   "outputs": [
    {
     "name": "stdout",
     "output_type": "stream",
     "text": [
      "Requirement already satisfied: python-dotenv in /Users/Victor/anaconda3/lib/python3.6/site-packages (0.10.1)\n",
      "\u001b[33mWARNING: You are using pip version 19.1, however version 19.3.1 is available.\n",
      "You should consider upgrading via the 'pip install --upgrade pip' command.\u001b[0m\n"
     ]
    }
   ],
   "source": [
    "!pip install python-dotenv"
   ]
  },
  {
   "cell_type": "code",
   "execution_count": 25,
   "metadata": {},
   "outputs": [
    {
     "name": "stdout",
     "output_type": "stream",
     "text": [
      "Collecting pip\n",
      "  Using cached https://files.pythonhosted.org/packages/00/b6/9cfa56b4081ad13874b0c6f96af8ce16cfbc1cb06bedf8e9164ce5551ec1/pip-19.3.1-py2.py3-none-any.whl\n",
      "Installing collected packages: pip\n",
      "  Found existing installation: pip 19.1\n",
      "    Uninstalling pip-19.1:\n",
      "      Successfully uninstalled pip-19.1\n",
      "Successfully installed pip-19.3.1\n"
     ]
    }
   ],
   "source": [
    "!pip install --upgrade pip"
   ]
  },
  {
   "cell_type": "code",
   "execution_count": 26,
   "metadata": {},
   "outputs": [
    {
     "data": {
      "text/plain": [
       "True"
      ]
     },
     "execution_count": 26,
     "metadata": {},
     "output_type": "execute_result"
    }
   ],
   "source": [
    "from dotenv import load_dotenv, find_dotenv\n",
    "\n",
    "dotenv_path  = find_dotenv()\n",
    "load_dotenv(dotenv_path)"
   ]
  },
  {
   "cell_type": "code",
   "execution_count": 63,
   "metadata": {},
   "outputs": [
    {
     "name": "stdout",
     "output_type": "stream",
     "text": [
      "400\n"
     ]
    }
   ],
   "source": []
  },
  {
   "cell_type": "code",
   "execution_count": 64,
   "metadata": {},
   "outputs": [
    {
     "name": "stdout",
     "output_type": "stream",
     "text": [
      "Collecting kaggle\n",
      "\u001b[?25l  Downloading https://files.pythonhosted.org/packages/62/ab/bb20f9b9e24f9a6250f95a432f8d9a7d745f8d24039d7a5a6eaadb7783ba/kaggle-1.5.6.tar.gz (58kB)\n",
      "\u001b[K     |████████████████████████████████| 61kB 212kB/s eta 0:00:01\n",
      "\u001b[?25hRequirement already satisfied: urllib3<1.25,>=1.21.1 in /Users/Victor/anaconda3/lib/python3.6/site-packages (from kaggle) (1.24.1)\n",
      "Requirement already satisfied: six>=1.10 in /Users/Victor/anaconda3/lib/python3.6/site-packages (from kaggle) (1.12.0)\n",
      "Requirement already satisfied: certifi in /Users/Victor/anaconda3/lib/python3.6/site-packages (from kaggle) (2019.9.11)\n",
      "Requirement already satisfied: python-dateutil in /Users/Victor/anaconda3/lib/python3.6/site-packages (from kaggle) (2.7.5)\n",
      "Requirement already satisfied: requests in /Users/Victor/anaconda3/lib/python3.6/site-packages (from kaggle) (2.21.0)\n",
      "Requirement already satisfied: tqdm in /Users/Victor/anaconda3/lib/python3.6/site-packages (from kaggle) (4.29.1)\n",
      "Collecting python-slugify\n",
      "  Downloading https://files.pythonhosted.org/packages/92/5f/7b84a0bba8a0fdd50c046f8b57dcf179dc16237ad33446079b7c484de04c/python-slugify-4.0.0.tar.gz\n",
      "Requirement already satisfied: idna<2.9,>=2.5 in /Users/Victor/anaconda3/lib/python3.6/site-packages (from requests->kaggle) (2.8)\n",
      "Requirement already satisfied: chardet<3.1.0,>=3.0.2 in /Users/Victor/anaconda3/lib/python3.6/site-packages (from requests->kaggle) (3.0.4)\n",
      "Collecting text-unidecode>=1.3\n",
      "\u001b[?25l  Downloading https://files.pythonhosted.org/packages/a6/a5/c0b6468d3824fe3fde30dbb5e1f687b291608f9473681bbf7dabbf5a87d7/text_unidecode-1.3-py2.py3-none-any.whl (78kB)\n",
      "\u001b[K     |████████████████████████████████| 81kB 306kB/s eta 0:00:01\n",
      "\u001b[?25hBuilding wheels for collected packages: kaggle, python-slugify\n",
      "  Building wheel for kaggle (setup.py) ... \u001b[?25ldone\n",
      "\u001b[?25h  Created wheel for kaggle: filename=kaggle-1.5.6-cp36-none-any.whl size=72859 sha256=7c7ee09063779dc88ce392ae7a61ae17e4945e5a3e95d6d6368b40d74b6dc4d2\n",
      "  Stored in directory: /Users/Victor/Library/Caches/pip/wheels/57/4e/e8/bb28d035162fb8f17f8ca5d42c3230e284c6aa565b42b72674\n",
      "  Building wheel for python-slugify (setup.py) ... \u001b[?25ldone\n",
      "\u001b[?25h  Created wheel for python-slugify: filename=python_slugify-4.0.0-py2.py3-none-any.whl size=5488 sha256=c4e23c6f6272ac5cde0ed2d0476179134bb47fcf3c956906ca072d5c8e535188\n",
      "  Stored in directory: /Users/Victor/Library/Caches/pip/wheels/11/94/81/312969455540cb0e6a773e5d68a73c14128bfdfd4a7969bb4f\n",
      "Successfully built kaggle python-slugify\n",
      "Installing collected packages: text-unidecode, python-slugify, kaggle\n",
      "Successfully installed kaggle-1.5.6 python-slugify-4.0.0 text-unidecode-1.3\n"
     ]
    }
   ],
   "source": [
    "!pip install kaggle"
   ]
  },
  {
   "cell_type": "code",
   "execution_count": 72,
   "metadata": {},
   "outputs": [],
   "source": [
    "import requests\n",
    "from requests import Session\n",
    "import os\n",
    "from dotenv import load_dotenv, find_dotenv"
   ]
  },
  {
   "cell_type": "code",
   "execution_count": 79,
   "metadata": {},
   "outputs": [],
   "source": [
    "dotenv_path = find_dotenv()\n",
    "load_dotenv(dotenv_path)\n",
    "\n",
    "data = {\n",
    "    'action': 'login',\n",
    "   'username': os.getenv('KAGGLE_USERNAME'),\n",
    "    'password': os.getenv('KAGGLE_PASSWORD')\n",
    "    \n",
    "}\n",
    "\n",
    "def extract_data(url, file_path):\n",
    "    with Session() as c:\n",
    "        c.post('https://www.kaggle.com/account/login', data=data)\n",
    "        with open(file_path, 'wb') as handle:\n",
    "            response = c.get(url, stream=True)\n",
    "            for block in response.iter_content(1024):\n",
    "                handle.write(block)"
   ]
  },
  {
   "cell_type": "code",
   "execution_count": null,
   "metadata": {},
   "outputs": [],
   "source": [
    "train_url = url = 'https://www.kaggle.com/c/titanic/download/train.csv'\n",
    "test_url = url = 'https://www.kaggle.com/c/titanic/download/test.csv'\n",
    "\n",
    "raw_data_path = os.path.join(os.path.pardir, 'data', 'raw')\n",
    "train_data_path = os.path.join(raw_data_path, 'train.csv')\n",
    "test_data_path = os.path.join(raw_data_path, 'test.csv')\n",
    "\n",
    "extract_data(train_url, train_data_path)\n",
    "extract_data(test_url, test_data_path)"
   ]
  },
  {
   "cell_type": "markdown",
   "metadata": {},
   "source": [
    "### Building a fully reproducible script"
   ]
  },
  {
   "cell_type": "code",
   "execution_count": 82,
   "metadata": {},
   "outputs": [],
   "source": [
    "\n",
    "data_script_file = os.path.join(os.path.pardir, 'src', 'data', 'raw_data.py')"
   ]
  },
  {
   "cell_type": "code",
   "execution_count": 83,
   "metadata": {},
   "outputs": [
    {
     "name": "stdout",
     "output_type": "stream",
     "text": [
      "Writing ../src/data/raw_data.py\n"
     ]
    },
    {
     "ename": "FileNotFoundError",
     "evalue": "[Errno 2] No such file or directory: '../src/data/raw_data.py'",
     "output_type": "error",
     "traceback": [
      "\u001b[0;31m---------------------------------------------------------------------------\u001b[0m",
      "\u001b[0;31mFileNotFoundError\u001b[0m                         Traceback (most recent call last)",
      "\u001b[0;32m<ipython-input-83-7b2cc2d99346>\u001b[0m in \u001b[0;36m<module>\u001b[0;34m\u001b[0m\n\u001b[0;32m----> 1\u001b[0;31m \u001b[0mget_ipython\u001b[0m\u001b[0;34m(\u001b[0m\u001b[0;34m)\u001b[0m\u001b[0;34m.\u001b[0m\u001b[0mrun_cell_magic\u001b[0m\u001b[0;34m(\u001b[0m\u001b[0;34m'writefile'\u001b[0m\u001b[0;34m,\u001b[0m \u001b[0;34m'$data_script_file'\u001b[0m\u001b[0;34m,\u001b[0m \u001b[0;34m\"\\nimport logging\\nfrom requests import Session\\nimport os\\nfrom dotenv import load_dotenv, find_dotenv\\n\\ndata = {\\n    'action': 'login',\\n   'username': os.getenv('KAGGLE_USERNAME'),\\n    'password': os.getenv('KAGGLE_PASSWORD')\\n    \\n}\\n\\ndef extract_data(url, file_path):\\n    with Session() as c:\\n        c.post('https://www.kaggle.com/account/login', data=data)\\n        with open(file_path, 'wb') as handle:\\n            response = c.get(url, stream=True)\\n            for block in response.iter_content(1024):\\n                handle.write(block)\\n                \\ndef main(project_dir):\\n    logger = logging.getLogger(__name__)\\n    logger.info('getting raw data')\\n    \\n    train_url = url = 'https://www.kaggle.com/c/titanic/download/train.csv'\\n    test_url = url = 'https://www.kaggle.com/c/titanic/download/test.csv'\\n\\n    raw_data_path = os.path.join(project_dir, 'data', 'raw')\\n    train_data_path = os.path.join(raw_data_path, 'train.csv')\\n    test_data_path = os.path.join(raw_data_path, 'test.csv')\\n\\n    extract_data(train_url, train_data_path)\\n    extract_data(test_url, test_data_path)\\n    logger.info('downloaded raw training and test data files')\\n    \\nif __name__ == '__main__':\\n    project_dir = os.path.join(os.path.dirname(__file__), os.pardir, os.pardir)\\n    \\n    #set up logger\\n    log_fmt = f'{asctime} - {name} - {levelname} - {message}'\\n    \\n    logging.basicConfig(level = logging.INFO, format=lo_fmt)\\n    \\n    dotenv_path = find_dotenv()\\n    load_dotenv(dotenv_path)\\n    \\n    main(project_dir)\\n\"\u001b[0m\u001b[0;34m)\u001b[0m\u001b[0;34m\u001b[0m\u001b[0;34m\u001b[0m\u001b[0m\n\u001b[0m",
      "\u001b[0;32m~/anaconda3/lib/python3.6/site-packages/IPython/core/interactiveshell.py\u001b[0m in \u001b[0;36mrun_cell_magic\u001b[0;34m(self, magic_name, line, cell)\u001b[0m\n\u001b[1;32m   2321\u001b[0m             \u001b[0mmagic_arg_s\u001b[0m \u001b[0;34m=\u001b[0m \u001b[0mself\u001b[0m\u001b[0;34m.\u001b[0m\u001b[0mvar_expand\u001b[0m\u001b[0;34m(\u001b[0m\u001b[0mline\u001b[0m\u001b[0;34m,\u001b[0m \u001b[0mstack_depth\u001b[0m\u001b[0;34m)\u001b[0m\u001b[0;34m\u001b[0m\u001b[0;34m\u001b[0m\u001b[0m\n\u001b[1;32m   2322\u001b[0m             \u001b[0;32mwith\u001b[0m \u001b[0mself\u001b[0m\u001b[0;34m.\u001b[0m\u001b[0mbuiltin_trap\u001b[0m\u001b[0;34m:\u001b[0m\u001b[0;34m\u001b[0m\u001b[0;34m\u001b[0m\u001b[0m\n\u001b[0;32m-> 2323\u001b[0;31m                 \u001b[0mresult\u001b[0m \u001b[0;34m=\u001b[0m \u001b[0mfn\u001b[0m\u001b[0;34m(\u001b[0m\u001b[0mmagic_arg_s\u001b[0m\u001b[0;34m,\u001b[0m \u001b[0mcell\u001b[0m\u001b[0;34m)\u001b[0m\u001b[0;34m\u001b[0m\u001b[0;34m\u001b[0m\u001b[0m\n\u001b[0m\u001b[1;32m   2324\u001b[0m             \u001b[0;32mreturn\u001b[0m \u001b[0mresult\u001b[0m\u001b[0;34m\u001b[0m\u001b[0;34m\u001b[0m\u001b[0m\n\u001b[1;32m   2325\u001b[0m \u001b[0;34m\u001b[0m\u001b[0m\n",
      "\u001b[0;32m<decorator-gen-106>\u001b[0m in \u001b[0;36mwritefile\u001b[0;34m(self, line, cell)\u001b[0m\n",
      "\u001b[0;32m~/anaconda3/lib/python3.6/site-packages/IPython/core/magic.py\u001b[0m in \u001b[0;36m<lambda>\u001b[0;34m(f, *a, **k)\u001b[0m\n\u001b[1;32m    185\u001b[0m     \u001b[0;31m# but it's overkill for just that one bit of state.\u001b[0m\u001b[0;34m\u001b[0m\u001b[0;34m\u001b[0m\u001b[0;34m\u001b[0m\u001b[0m\n\u001b[1;32m    186\u001b[0m     \u001b[0;32mdef\u001b[0m \u001b[0mmagic_deco\u001b[0m\u001b[0;34m(\u001b[0m\u001b[0marg\u001b[0m\u001b[0;34m)\u001b[0m\u001b[0;34m:\u001b[0m\u001b[0;34m\u001b[0m\u001b[0;34m\u001b[0m\u001b[0m\n\u001b[0;32m--> 187\u001b[0;31m         \u001b[0mcall\u001b[0m \u001b[0;34m=\u001b[0m \u001b[0;32mlambda\u001b[0m \u001b[0mf\u001b[0m\u001b[0;34m,\u001b[0m \u001b[0;34m*\u001b[0m\u001b[0ma\u001b[0m\u001b[0;34m,\u001b[0m \u001b[0;34m**\u001b[0m\u001b[0mk\u001b[0m\u001b[0;34m:\u001b[0m \u001b[0mf\u001b[0m\u001b[0;34m(\u001b[0m\u001b[0;34m*\u001b[0m\u001b[0ma\u001b[0m\u001b[0;34m,\u001b[0m \u001b[0;34m**\u001b[0m\u001b[0mk\u001b[0m\u001b[0;34m)\u001b[0m\u001b[0;34m\u001b[0m\u001b[0;34m\u001b[0m\u001b[0m\n\u001b[0m\u001b[1;32m    188\u001b[0m \u001b[0;34m\u001b[0m\u001b[0m\n\u001b[1;32m    189\u001b[0m         \u001b[0;32mif\u001b[0m \u001b[0mcallable\u001b[0m\u001b[0;34m(\u001b[0m\u001b[0marg\u001b[0m\u001b[0;34m)\u001b[0m\u001b[0;34m:\u001b[0m\u001b[0;34m\u001b[0m\u001b[0;34m\u001b[0m\u001b[0m\n",
      "\u001b[0;32m~/anaconda3/lib/python3.6/site-packages/IPython/core/magics/osm.py\u001b[0m in \u001b[0;36mwritefile\u001b[0;34m(self, line, cell)\u001b[0m\n\u001b[1;32m    840\u001b[0m \u001b[0;34m\u001b[0m\u001b[0m\n\u001b[1;32m    841\u001b[0m         \u001b[0mmode\u001b[0m \u001b[0;34m=\u001b[0m \u001b[0;34m'a'\u001b[0m \u001b[0;32mif\u001b[0m \u001b[0margs\u001b[0m\u001b[0;34m.\u001b[0m\u001b[0mappend\u001b[0m \u001b[0;32melse\u001b[0m \u001b[0;34m'w'\u001b[0m\u001b[0;34m\u001b[0m\u001b[0;34m\u001b[0m\u001b[0m\n\u001b[0;32m--> 842\u001b[0;31m         \u001b[0;32mwith\u001b[0m \u001b[0mio\u001b[0m\u001b[0;34m.\u001b[0m\u001b[0mopen\u001b[0m\u001b[0;34m(\u001b[0m\u001b[0mfilename\u001b[0m\u001b[0;34m,\u001b[0m \u001b[0mmode\u001b[0m\u001b[0;34m,\u001b[0m \u001b[0mencoding\u001b[0m\u001b[0;34m=\u001b[0m\u001b[0;34m'utf-8'\u001b[0m\u001b[0;34m)\u001b[0m \u001b[0;32mas\u001b[0m \u001b[0mf\u001b[0m\u001b[0;34m:\u001b[0m\u001b[0;34m\u001b[0m\u001b[0;34m\u001b[0m\u001b[0m\n\u001b[0m\u001b[1;32m    843\u001b[0m             \u001b[0mf\u001b[0m\u001b[0;34m.\u001b[0m\u001b[0mwrite\u001b[0m\u001b[0;34m(\u001b[0m\u001b[0mcell\u001b[0m\u001b[0;34m)\u001b[0m\u001b[0;34m\u001b[0m\u001b[0;34m\u001b[0m\u001b[0m\n",
      "\u001b[0;31mFileNotFoundError\u001b[0m: [Errno 2] No such file or directory: '../src/data/raw_data.py'"
     ]
    }
   ],
   "source": [
    "%%writefile $data_script_file\n",
    "\n",
    "import logging\n",
    "from requests import Session\n",
    "import os\n",
    "from dotenv import load_dotenv, find_dotenv\n",
    "\n",
    "data = {\n",
    "    'action': 'login',\n",
    "   'username': os.getenv('KAGGLE_USERNAME'),\n",
    "    'password': os.getenv('KAGGLE_PASSWORD')\n",
    "    \n",
    "}\n",
    "\n",
    "def extract_data(url, file_path):\n",
    "    with Session() as c:\n",
    "        c.post('https://www.kaggle.com/account/login', data=data)\n",
    "        with open(file_path, 'wb') as handle:\n",
    "            response = c.get(url, stream=True)\n",
    "            for block in response.iter_content(1024):\n",
    "                handle.write(block)\n",
    "                \n",
    "def main(project_dir):\n",
    "    logger = logging.getLogger(__name__)\n",
    "    logger.info('getting raw data')\n",
    "    \n",
    "    train_url = url = 'https://www.kaggle.com/c/titanic/download/train.csv'\n",
    "    test_url = url = 'https://www.kaggle.com/c/titanic/download/test.csv'\n",
    "\n",
    "    raw_data_path = os.path.join(project_dir, 'data', 'raw')\n",
    "    train_data_path = os.path.join(raw_data_path, 'train.csv')\n",
    "    test_data_path = os.path.join(raw_data_path, 'test.csv')\n",
    "\n",
    "    extract_data(train_url, train_data_path)\n",
    "    extract_data(test_url, test_data_path)\n",
    "    logger.info('downloaded raw training and test data files')\n",
    "    \n",
    "if __name__ == '__main__':\n",
    "    project_dir = os.path.join(os.path.dirname(__file__), os.pardir, os.pardir)\n",
    "    \n",
    "    #set up logger\n",
    "    log_fmt = f'{asctime} - {name} - {levelname} - {message}'\n",
    "    \n",
    "    logging.basicConfig(level = logging.INFO, format=lo_fmt)\n",
    "    \n",
    "    dotenv_path = find_dotenv()\n",
    "    load_dotenv(dotenv_path)\n",
    "    \n",
    "    main(project_dir)"
   ]
  },
  {
   "cell_type": "code",
   "execution_count": null,
   "metadata": {},
   "outputs": [],
   "source": []
  }
 ],
 "metadata": {
  "kernelspec": {
   "display_name": "Python 3",
   "language": "python",
   "name": "python3"
  },
  "language_info": {
   "codemirror_mode": {
    "name": "ipython",
    "version": 3
   },
   "file_extension": ".py",
   "mimetype": "text/x-python",
   "name": "python",
   "nbconvert_exporter": "python",
   "pygments_lexer": "ipython3",
   "version": "3.6.8"
  }
 },
 "nbformat": 4,
 "nbformat_minor": 2
}
